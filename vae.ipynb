{
 "cells": [
  {
   "cell_type": "code",
   "execution_count": 1,
   "metadata": {},
   "outputs": [],
   "source": [
    "%reload_ext autoreload\n",
    "%autoreload 2\n",
    "%matplotlib inline"
   ]
  },
  {
   "cell_type": "code",
   "execution_count": 2,
   "metadata": {},
   "outputs": [
    {
     "name": "stdout",
     "output_type": "stream",
     "text": [
      "env: CUDA_LAUNCH_BLOCKING=1\n"
     ]
    }
   ],
   "source": [
    "%env CUDA_LAUNCH_BLOCKING=1"
   ]
  },
  {
   "cell_type": "code",
   "execution_count": 3,
   "metadata": {},
   "outputs": [],
   "source": [
    "import tqdm\n",
    "import torch\n",
    "import random\n",
    "import numpy as np\n",
    "import pandas as pd\n",
    "import torch.optim as optim\n",
    "import matplotlib.pyplot as plt\n",
    "\n",
    "from vae.cvae import RnnVae\n",
    "from cupy.cuda import Device\n",
    "from sklearn.datasets.lfw import Bunch\n",
    "from torch.nn.utils import clip_grad_norm_\n",
    "from vae.corpus import PandasDataset, OneHotCorpus\n",
    "from vae.metrics import diversity, validity, uniqueness\n",
    "from vae.misc import KLAnnealer, CosineAnnealingLRWithRestart, Logger, LogPlotter"
   ]
  },
  {
   "cell_type": "code",
   "execution_count": 4,
   "metadata": {},
   "outputs": [
    {
     "name": "stdout",
     "output_type": "stream",
     "text": [
      "Thu Jun 21 17:44:02 2018       \n",
      "+-----------------------------------------------------------------------------+\n",
      "| NVIDIA-SMI 384.130                Driver Version: 384.130                   |\n",
      "|-------------------------------+----------------------+----------------------+\n",
      "| GPU  Name        Persistence-M| Bus-Id        Disp.A | Volatile Uncorr. ECC |\n",
      "| Fan  Temp  Perf  Pwr:Usage/Cap|         Memory-Usage | GPU-Util  Compute M. |\n",
      "|===============================+======================+======================|\n",
      "|   0  GeForce GTX 108...  Off  | 00000000:09:00.0 Off |                  N/A |\n",
      "| 37%   64C    P2    91W / 250W |   8119MiB / 11172MiB |     50%      Default |\n",
      "+-------------------------------+----------------------+----------------------+\n",
      "|   1  GeForce GTX 108...  Off  | 00000000:0A:00.0 Off |                  N/A |\n",
      "| 55%   75C    P0    64W / 250W |     19MiB / 11172MiB |      0%      Default |\n",
      "+-------------------------------+----------------------+----------------------+\n",
      "|   2  GeForce GTX 108...  Off  | 00000000:42:00.0 Off |                  N/A |\n",
      "| 69%   83C    P2    95W / 250W |   7168MiB / 11172MiB |     18%      Default |\n",
      "+-------------------------------+----------------------+----------------------+\n",
      "|   3  GeForce GTX 108...  Off  | 00000000:43:00.0 Off |                  N/A |\n",
      "| 29%   59C    P8    22W / 250W |     19MiB / 11170MiB |      0%      Default |\n",
      "+-------------------------------+----------------------+----------------------+\n",
      "                                                                               \n",
      "+-----------------------------------------------------------------------------+\n",
      "| Processes:                                                       GPU Memory |\n",
      "|  GPU       PID   Type   Process name                             Usage      |\n",
      "|=============================================================================|\n",
      "|    0       807      C   python3                                      691MiB |\n",
      "|    0      2507      G   /usr/lib/xorg/Xorg                             7MiB |\n",
      "|    0     69297      C   python                                      7409MiB |\n",
      "|    1      2507      G   /usr/lib/xorg/Xorg                             7MiB |\n",
      "|    2      2507      G   /usr/lib/xorg/Xorg                             7MiB |\n",
      "|    2    121304      C   python                                      7149MiB |\n",
      "|    3      2507      G   /usr/lib/xorg/Xorg                             7MiB |\n",
      "+-----------------------------------------------------------------------------+\n"
     ]
    }
   ],
   "source": [
    "!nvidia-smi"
   ]
  },
  {
   "cell_type": "code",
   "execution_count": 5,
   "metadata": {},
   "outputs": [],
   "source": [
    "args = Bunch(\n",
    "    # Model\n",
    "    model=Bunch(\n",
    "        q=Bunch(\n",
    "            cell='gru',\n",
    "            bidir=True,\n",
    "            d_h=64,\n",
    "            n_layers=1,\n",
    "            r_dropout=0.0,  # should be around 0 to help encoder train more easily\n",
    "            s_dropout=0.0  # same as `r_dropout`\n",
    "        ),\n",
    "        g=Bunch(\n",
    "            cell='gru',\n",
    "            n_layers=2,\n",
    "            r_dropout=0.0,\n",
    "            s_dropout=0.0\n",
    "        ),\n",
    "        d_z=64,\n",
    "        freeze_embeddings=False\n",
    "    ),\n",
    "    # Train\n",
    "    train=Bunch(\n",
    "        n_batch=128,\n",
    "        grad_clipping=10,\n",
    "        kl=Bunch(  # kl weight annealing params\n",
    "            i_start=1,\n",
    "            w_start=0.01,\n",
    "            w_max=0.1\n",
    "        ),\n",
    "        lr=Bunch(\n",
    "            value=1e-2,  # from `lr`\n",
    "            scheduler=Bunch(\n",
    "                n_period=5,  # n_epoch for first restart\n",
    "                n_r=1,  # number of restarts in SGDR\n",
    "                n_mult=1,\n",
    "                lr_min=1e-3  # to `lr`\n",
    "            )\n",
    "        )\n",
    "    ),\n",
    "    # Env\n",
    "    device_code=1\n",
    ")"
   ]
  },
  {
   "cell_type": "code",
   "execution_count": 6,
   "metadata": {},
   "outputs": [
    {
     "data": {
      "text/plain": [
       "device(type='cuda', index=1)"
      ]
     },
     "execution_count": 6,
     "metadata": {},
     "output_type": "execute_result"
    }
   ],
   "source": [
    "device = torch.device(\n",
    "    f'cuda:{args.device_code}' \n",
    "    if args.device_code >= 0 and torch.cuda.is_available()\n",
    "    else 'cpu'\n",
    ")\n",
    "device"
   ]
  },
  {
   "cell_type": "code",
   "execution_count": 7,
   "metadata": {},
   "outputs": [
    {
     "name": "stdout",
     "output_type": "stream",
     "text": [
      "CPU times: user 13.7 s, sys: 820 ms, total: 14.5 s\n",
      "Wall time: 14.5 s\n"
     ]
    },
    {
     "data": {
      "text/plain": [
       "(1000000, 100000)"
      ]
     },
     "execution_count": 7,
     "metadata": {},
     "output_type": "execute_result"
    }
   ],
   "source": [
    "data_path = '/media/Molecules/molecules.csv'\n",
    "n_train, n_val = 1_000_000, 100_000\n",
    "\n",
    "%time data = pd.read_csv(data_path, usecols=['SMILES'])\n",
    "data = data.sample(n_train + n_val)\n",
    "\n",
    "train, val = data[:n_train], data[n_train: n_train + n_val]\n",
    "train, val = PandasDataset(train), PandasDataset(val)\n",
    "len(train), len(val)"
   ]
  },
  {
   "cell_type": "code",
   "execution_count": 8,
   "metadata": {},
   "outputs": [
    {
     "data": {
      "application/vnd.jupyter.widget-view+json": {
       "model_id": "2ee166add33849e191cd96811fc25507",
       "version_major": 2,
       "version_minor": 0
      },
      "text/plain": [
       "HBox(children=(IntProgress(value=0, max=1000000), HTML(value='')))"
      ]
     },
     "metadata": {},
     "output_type": "display_data"
    },
    {
     "name": "stdout",
     "output_type": "stream",
     "text": [
      "\n"
     ]
    }
   ],
   "source": [
    "corpus = OneHotCorpus(args.train.n_batch, device)\n",
    "train = corpus.fit_transform(train)\n",
    "# val = corpus.transform(val)\n",
    "ds_val = val  # dataset"
   ]
  },
  {
   "cell_type": "code",
   "execution_count": 9,
   "metadata": {},
   "outputs": [
    {
     "data": {
      "text/plain": [
       "RnnVae(\n",
       "  (x_emb): Embedding(36, 36, padding_idx=9)\n",
       "  (encoder_rnn): GRU(36, 64, batch_first=True, bidirectional=True)\n",
       "  (q_mu): Linear(in_features=128, out_features=64, bias=True)\n",
       "  (q_logvar): Linear(in_features=128, out_features=64, bias=True)\n",
       "  (decoder_rnn): GRU(100, 64, num_layers=2, batch_first=True)\n",
       "  (decoder_fc): Linear(in_features=64, out_features=36, bias=True)\n",
       "  (encoder): ModuleList(\n",
       "    (0): GRU(36, 64, batch_first=True, bidirectional=True)\n",
       "    (1): Linear(in_features=128, out_features=64, bias=True)\n",
       "    (2): Linear(in_features=128, out_features=64, bias=True)\n",
       "  )\n",
       "  (decoder): ModuleList(\n",
       "    (0): GRU(100, 64, num_layers=2, batch_first=True)\n",
       "    (1): Linear(in_features=64, out_features=36, bias=True)\n",
       "  )\n",
       "  (vae): ModuleList(\n",
       "    (0): Embedding(36, 36, padding_idx=9)\n",
       "    (1): ModuleList(\n",
       "      (0): GRU(36, 64, batch_first=True, bidirectional=True)\n",
       "      (1): Linear(in_features=128, out_features=64, bias=True)\n",
       "      (2): Linear(in_features=128, out_features=64, bias=True)\n",
       "    )\n",
       "    (2): ModuleList(\n",
       "      (0): GRU(100, 64, num_layers=2, batch_first=True)\n",
       "      (1): Linear(in_features=64, out_features=36, bias=True)\n",
       "    )\n",
       "  )\n",
       ")"
      ]
     },
     "execution_count": 9,
     "metadata": {},
     "output_type": "execute_result"
    }
   ],
   "source": [
    "model = RnnVae(**args.model, x_vocab=corpus.vocab).to(device)\n",
    "model"
   ]
  },
  {
   "cell_type": "code",
   "execution_count": 10,
   "metadata": {},
   "outputs": [
    {
     "name": "stdout",
     "output_type": "stream",
     "text": [
      "kl_loss=0.21 recon_loss=3.62 \n",
      "sampled_x='5](Nc)6P+B66#lnO8BF8`'\n"
     ]
    }
   ],
   "source": [
    "# Sanity check\n",
    "x = next(iter(train))\n",
    "kl_loss, recon_loss = model(x)\n",
    "sampled_x = corpus.reverse(model.sample_sentence(1, 100)[-1])[0]\n",
    "print(f\"kl_loss={kl_loss:.2f} recon_loss={recon_loss:.2f} \\nsampled_x='{sampled_x}`'\")"
   ]
  },
  {
   "cell_type": "code",
   "execution_count": 11,
   "metadata": {},
   "outputs": [
    {
     "data": {
      "image/png": "[encoded data removed]",
      "text/plain": [
       "<Figure size 504x504 with 1 Axes>"
      ]
     },
     "metadata": {},
     "output_type": "display_data"
    }
   ],
   "source": [
    "n_epoch = sum(args.train.lr.scheduler.n_period * (args.train.lr.scheduler.n_mult ** i)\n",
    "              for i in range(args.train.lr.scheduler.n_r))\n",
    "kl_annealer = KLAnnealer(**args.train.kl, n_epoch=n_epoch)\n",
    "xs = np.linspace(0, n_epoch, num=n_epoch + 1)\n",
    "ts = np.array([kl_annealer(i) for i in xs])\n",
    "plt.figure(figsize=(7, 7))\n",
    "plt.ylabel('value')\n",
    "plt.xlabel('epoch')\n",
    "plt.title('kl weight')\n",
    "plt.plot(xs, ts);"
   ]
  },
  {
   "cell_type": "code",
   "execution_count": 12,
   "metadata": {},
   "outputs": [],
   "source": [
    "get_params = lambda: (p for p in model.vae.parameters() if p.requires_grad)\n",
    "trainer = optim.Adam(get_params(), lr=args.train.lr.value)\n",
    "lr_scheduler = CosineAnnealingLRWithRestart(trainer, **args.train.lr.scheduler)"
   ]
  },
  {
   "cell_type": "code",
   "execution_count": null,
   "metadata": {},
   "outputs": [
    {
     "data": {
      "application/vnd.jupyter.widget-view+json": {
       "model_id": "c3ccba87e53e45ca8fffc6becb87f25f",
       "version_major": 2,
       "version_minor": 0
      },
      "text/plain": [
       "HBox(children=(IntProgress(value=0, max=5), HTML(value='')))"
      ]
     },
     "metadata": {},
     "output_type": "display_data"
    },
    {
     "name": "stdout",
     "output_type": "stream",
     "text": [
      "[epoch=0]: 'CC(C)COc1cccc(-c2n[nH]c(c32)c1'\n",
      "[epoch=1]: 'COC(C)Cc1nccs1'\n"
     ]
    }
   ],
   "source": [
    "model.train()\n",
    "T = tqdm.tqdm_notebook(range(n_epoch))\n",
    "n_iter, n_last = len(train), 1000\n",
    "elog, ilog = Logger(), Logger()\n",
    "\n",
    "for epoch in T:\n",
    "    # Epoch start\n",
    "    kl_weight = kl_annealer(epoch)\n",
    "    \n",
    "    # Iters\n",
    "    for i, x in enumerate(train):\n",
    "        # Forward\n",
    "        kl_loss, recon_loss = model(x)\n",
    "        loss = kl_weight * kl_loss + recon_loss\n",
    "        \n",
    "        # Backward\n",
    "        trainer.zero_grad()\n",
    "        loss.backward()\n",
    "        clip_grad_norm_(get_params(), args.train.grad_clipping)\n",
    "        trainer.step()\n",
    "        \n",
    "        # Log\n",
    "        lr = trainer.param_groups[0]['lr']\n",
    "        ilog.append({\n",
    "            'epoch': epoch,\n",
    "            'kl_loss': kl_loss.item(),\n",
    "            'recon_loss': recon_loss.item(),\n",
    "            'loss': loss.item(),\n",
    "            'kl_weight': kl_weight,\n",
    "            'lr': lr\n",
    "        })\n",
    "        \n",
    "        # Update T\n",
    "        kl_loss_value = np.mean(ilog['kl_loss'][-n_last:])\n",
    "        recon_loss_value = np.mean(ilog['recon_loss'][-n_last:])\n",
    "        loss_value = np.mean(ilog['loss'][-n_last:])\n",
    "        postfix_strs = []\n",
    "        postfix_strs.append(f'i={i}/{n_iter}')\n",
    "        postfix_strs.append(f'kl_loss={kl_loss_value:.5f}')\n",
    "        postfix_strs.append(f'recon_loss={recon_loss_value:.5f}')\n",
    "        postfix_strs.append(f'loss={loss_value:.5f}')\n",
    "        postfix_strs.append(f'klw={kl_weight:.3f} lr={lr:.5f}')\n",
    "        T.set_postfix_str(' '.join(postfix_strs))\n",
    "        T.refresh()\n",
    "    \n",
    "    # Log\n",
    "    sent = corpus.reverse(model.sample_sentence(1, 100)[-1])[0]\n",
    "    elog.append({\n",
    "        **{k: v for k, v in ilog[-1].items() if 'loss' not in k},\n",
    "        'kl_loss': kl_loss_value,\n",
    "        'recon_loss': recon_loss_value,\n",
    "        'loss': loss_value,\n",
    "        'sent': sent\n",
    "    })\n",
    "    \n",
    "    # Print result\n",
    "    print(f\"[epoch={epoch}]: '{sent}'\")\n",
    "    \n",
    "    # Epoch end\n",
    "    lr_scheduler.step()"
   ]
  },
  {
   "cell_type": "code",
   "execution_count": null,
   "metadata": {},
   "outputs": [],
   "source": [
    "plotter = LogPlotter(elog)\n",
    "plotter.grid([\n",
    "    'kl_loss', 'recon_loss',\n",
    "    'loss', 'lr'\n",
    "])"
   ]
  },
  {
   "cell_type": "code",
   "execution_count": null,
   "metadata": {},
   "outputs": [],
   "source": [
    "# Same as Oktai\n",
    "def test_model(dataset, n_gen=1000, n_other=1000):\n",
    "    gen_smiles = []\n",
    "    for _ in tqdm.tqdm_notebook(range(n_gen // 100)):\n",
    "        gen_smiles.extend(corpus.reverse(model.sample_sentence(100, 100)[-1]))\n",
    "        \n",
    "    other_smiles = random.sample(list(dataset), n_other)\n",
    "\n",
    "    internal_diversity_val = diversity(gen_smiles)\n",
    "    external_diversity_val = diversity(gen_smiles, other_smiles)  # TODO: check it\n",
    "    validity_val = validity(gen_smiles)\n",
    "    uniqueness_val = uniqueness(gen_smiles)\n",
    "\n",
    "    print('\\n###########################')\n",
    "    print('Internal Diversity = {}'.format(internal_diversity_val))\n",
    "    print('External Diversity = {}'.format(external_diversity_val))\n",
    "    print('Validity = {}'.format(validity_val))\n",
    "    print('Uniqueness = {}'.format(uniqueness_val))\n",
    "    print('############################\\n')"
   ]
  },
  {
   "cell_type": "code",
   "execution_count": null,
   "metadata": {},
   "outputs": [],
   "source": [
    "test_model(ds_val)"
   ]
  },
  {
   "cell_type": "code",
   "execution_count": null,
   "metadata": {},
   "outputs": [],
   "source": [
    "path = Bunch(save='vae.pt')\n",
    "torch.save((args, model), path.save)\n",
    "!du -sh {path.save}"
   ]
  }
 ],
 "metadata": {
  "kernelspec": {
   "display_name": "Python 3",
   "language": "python",
   "name": "python3"
  },
  "language_info": {
   "codemirror_mode": {
    "name": "ipython",
    "version": 3
   },
   "file_extension": ".py",
   "mimetype": "text/x-python",
   "name": "python",
   "nbconvert_exporter": "python",
   "pygments_lexer": "ipython3",
   "version": "3.6.5"
  }
 },
 "nbformat": 4,
 "nbformat_minor": 2
}
