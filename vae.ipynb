{
 "cells": [
  {
   "cell_type": "code",
   "execution_count": 1,
   "metadata": {},
   "outputs": [],
   "source": [
    "%reload_ext autoreload\n",
    "%autoreload 2\n",
    "%matplotlib inline"
   ]
  },
  {
   "cell_type": "code",
   "execution_count": 2,
   "metadata": {},
   "outputs": [
    {
     "name": "stdout",
     "output_type": "stream",
     "text": [
      "env: CUDA_LAUNCH_BLOCKING=1\n"
     ]
    }
   ],
   "source": [
    "%env CUDA_LAUNCH_BLOCKING=1"
   ]
  },
  {
   "cell_type": "code",
   "execution_count": 3,
   "metadata": {},
   "outputs": [
    {
     "name": "stderr",
     "output_type": "stream",
     "text": [
      "Using TensorFlow backend.\n"
     ]
    }
   ],
   "source": [
    "import tqdm\n",
    "import torch\n",
    "import random\n",
    "import numpy as np\n",
    "import pandas as pd\n",
    "import torch.optim as optim\n",
    "import matplotlib.pyplot as plt\n",
    "\n",
    "from vae.cvae import RnnVae\n",
    "from cupy.cuda import Device\n",
    "from sklearn.datasets.lfw import Bunch\n",
    "from torch.nn.utils import clip_grad_norm_\n",
    "from vae.corpus import ListDataset, OneHotCorpus\n",
    "from vae.metrics import diversity, validity, uniqueness\n",
    "from vae.misc import KLAnnealer, CosineAnnealingLRWithRestart, Logger, reject_outliers, LogPlotter"
   ]
  },
  {
   "cell_type": "code",
   "execution_count": 4,
   "metadata": {},
   "outputs": [
    {
     "name": "stdout",
     "output_type": "stream",
     "text": [
      "Thu Jun 14 17:32:39 2018       \n",
      "+-----------------------------------------------------------------------------+\n",
      "| NVIDIA-SMI 384.130                Driver Version: 384.130                   |\n",
      "|-------------------------------+----------------------+----------------------+\n",
      "| GPU  Name        Persistence-M| Bus-Id        Disp.A | Volatile Uncorr. ECC |\n",
      "| Fan  Temp  Perf  Pwr:Usage/Cap|         Memory-Usage | GPU-Util  Compute M. |\n",
      "|===============================+======================+======================|\n",
      "|   0  GeForce GTX 108...  Off  | 00000000:09:00.0 Off |                  N/A |\n",
      "| 76%   82C    P2   266W / 250W |   4581MiB / 11172MiB |     67%      Default |\n",
      "+-------------------------------+----------------------+----------------------+\n",
      "|   1  GeForce GTX 108...  Off  | 00000000:0A:00.0 Off |                  N/A |\n",
      "| 76%   80C    P8    25W / 250W |     19MiB / 11172MiB |      0%      Default |\n",
      "+-------------------------------+----------------------+----------------------+\n",
      "|   2  GeForce GTX 108...  Off  | 00000000:42:00.0 Off |                  N/A |\n",
      "| 85%   90C    P2   102W / 250W |  10810MiB / 11172MiB |     71%      Default |\n",
      "+-------------------------------+----------------------+----------------------+\n",
      "|   3  GeForce GTX 108...  Off  | 00000000:43:00.0 Off |                  N/A |\n",
      "| 92%   90C    P2   171W / 250W |   9157MiB / 11170MiB |     77%      Default |\n",
      "+-------------------------------+----------------------+----------------------+\n",
      "                                                                               \n",
      "+-----------------------------------------------------------------------------+\n",
      "| Processes:                                                       GPU Memory |\n",
      "|  GPU       PID   Type   Process name                             Usage      |\n",
      "|=============================================================================|\n",
      "|    0      2507      G   /usr/lib/xorg/Xorg                             7MiB |\n",
      "|    0    117983      C   python                                      3871MiB |\n",
      "|    0    128062      C   python3                                      691MiB |\n",
      "|    1      2507      G   /usr/lib/xorg/Xorg                             7MiB |\n",
      "|    2      2507      G   /usr/lib/xorg/Xorg                             7MiB |\n",
      "|    2    129232      C   python                                     10791MiB |\n",
      "|    3      2507      G   /usr/lib/xorg/Xorg                             7MiB |\n",
      "|    3     57992      C   ...bel/miniconda3/envs/text_gen/bin/python  2289MiB |\n",
      "|    3    126049      C   python                                      6849MiB |\n",
      "+-----------------------------------------------------------------------------+\n"
     ]
    }
   ],
   "source": [
    "!nvidia-smi"
   ]
  },
  {
   "cell_type": "code",
   "execution_count": 5,
   "metadata": {},
   "outputs": [],
   "source": [
    "args = Bunch(\n",
    "    # Model\n",
    "    model=Bunch(\n",
    "        q=Bunch(\n",
    "            cell='gru',\n",
    "            d_h=64,\n",
    "            n_layers=1,\n",
    "            r_dropout=0.0,  # should be around 0 to help encoder train more easily\n",
    "            s_dropout=0.0  # same as `r_dropout`\n",
    "        ),\n",
    "        g=Bunch(\n",
    "            cell='gru',\n",
    "            n_layers=1,\n",
    "            r_dropout=0.3,\n",
    "            s_dropout=0.0\n",
    "        ),\n",
    "        d=Bunch(\n",
    "            n_filters=1\n",
    "        ),\n",
    "        d_z=64,\n",
    "        d_c=1,  # needed for `d` to work\n",
    "        p_word_dropout=0.0,\n",
    "        freeze_embeddings=True,\n",
    "        attention=True\n",
    "    ),\n",
    "    # Train\n",
    "    train=Bunch(\n",
    "        n_batch=64,\n",
    "        grad_clipping=5,\n",
    "        kl=Bunch(  # kl weight annealing params\n",
    "            i_start=0,\n",
    "            w_start=0.5,\n",
    "            w_max=0.5\n",
    "        ),\n",
    "        lr=Bunch(\n",
    "            value=1e-3,  # from `lr`\n",
    "            scheduler=Bunch(\n",
    "                n_period=3,\n",
    "                n_r=1,  # number of restarts in SGDR\n",
    "                n_mult=1,\n",
    "                lr_min=1e-3  # to `lr`\n",
    "            )\n",
    "        )\n",
    "    ),\n",
    "    # Val\n",
    "    val=Bunch(\n",
    "        sample_params=Bunch(\n",
    "            n_beam=1,\n",
    "            coverage_penalty=False\n",
    "        )\n",
    "    ),\n",
    "    # Env\n",
    "    device_code=1\n",
    ")"
   ]
  },
  {
   "cell_type": "code",
   "execution_count": 6,
   "metadata": {},
   "outputs": [
    {
     "data": {
      "text/plain": [
       "device(type='cuda', index=1)"
      ]
     },
     "execution_count": 6,
     "metadata": {},
     "output_type": "execute_result"
    }
   ],
   "source": [
    "device = torch.device(\n",
    "    f'cuda:{args.device_code}' \n",
    "    if args.device_code >= 0 and torch.cuda.is_available()\n",
    "    else 'cpu'\n",
    ")\n",
    "Device(device.index).use()  # cupy for SRU to work\n",
    "device"
   ]
  },
  {
   "cell_type": "code",
   "execution_count": 7,
   "metadata": {},
   "outputs": [
    {
     "name": "stdout",
     "output_type": "stream",
     "text": [
      "CPU times: user 15.4 s, sys: 1.02 s, total: 16.4 s\n",
      "Wall time: 16.5 s\n"
     ]
    },
    {
     "data": {
      "text/plain": [
       "(1000000, 100000)"
      ]
     },
     "execution_count": 7,
     "metadata": {},
     "output_type": "execute_result"
    }
   ],
   "source": [
    "data_path = '/media/Molecules/molecules.csv'\n",
    "n_train, n_val = 1_000_000, 100_000\n",
    "\n",
    "%time data = pd.read_csv(data_path, usecols=['SMILES'], squeeze=True)\n",
    "data = data.sample(n_train + n_val)\n",
    "data = data.tolist()\n",
    "\n",
    "random.shuffle(data)\n",
    "train = data[:n_train]\n",
    "val = data[n_train: n_train + n_val]\n",
    "\n",
    "train = ListDataset(train)\n",
    "val = ListDataset(val)\n",
    "len(train), len(val)"
   ]
  },
  {
   "cell_type": "code",
   "execution_count": 8,
   "metadata": {},
   "outputs": [
    {
     "data": {
      "application/vnd.jupyter.widget-view+json": {
       "model_id": "6203cc724c9346c9b66752d8e3e4c2ff",
       "version_major": 2,
       "version_minor": 0
      },
      "text/plain": [
       "HBox(children=(IntProgress(value=0, max=1000000), HTML(value='')))"
      ]
     },
     "metadata": {},
     "output_type": "display_data"
    },
    {
     "name": "stdout",
     "output_type": "stream",
     "text": [
      "\n"
     ]
    }
   ],
   "source": [
    "corpus = OneHotCorpus(args.train.n_batch, device)\n",
    "train = corpus.fit_transform(train)\n",
    "# val = corpus.transform(val)\n",
    "ds_val = val  # dataset"
   ]
  },
  {
   "cell_type": "code",
   "execution_count": 9,
   "metadata": {},
   "outputs": [
    {
     "data": {
      "text/plain": [
       "RnnVae(\n",
       "  (x_emb): Embedding(36, 36, padding_idx=19)\n",
       "  (encoder_rnn): GRU(36, 64)\n",
       "  (q_mu): Linear(in_features=64, out_features=64, bias=True)\n",
       "  (q_logvar): Linear(in_features=64, out_features=64, bias=True)\n",
       "  (decoder_rnn): GRU(101, 65)\n",
       "  (decoder_a): SelfAttention(\n",
       "    (linear_in): Linear(in_features=65, out_features=65, bias=False)\n",
       "    (linear_out): Linear(in_features=130, out_features=65, bias=False)\n",
       "    (activation): SELU()\n",
       "  )\n",
       "  (decoder_fc): Linear(in_features=65, out_features=36, bias=True)\n",
       "  (disc_cnn): CNNEncoder(\n",
       "    (_activation): ReLU()\n",
       "    (conv_layer_0): Conv1d(1, 1, kernel_size=(2,), stride=(1,))\n",
       "    (conv_layer_1): Conv1d(1, 1, kernel_size=(3,), stride=(1,))\n",
       "    (conv_layer_2): Conv1d(1, 1, kernel_size=(4,), stride=(1,))\n",
       "    (conv_layer_3): Conv1d(1, 1, kernel_size=(5,), stride=(1,))\n",
       "  )\n",
       "  (encoder): ModuleList(\n",
       "    (0): GRU(36, 64)\n",
       "    (1): Linear(in_features=64, out_features=64, bias=True)\n",
       "    (2): Linear(in_features=64, out_features=64, bias=True)\n",
       "  )\n",
       "  (decoder): ModuleList(\n",
       "    (0): GRU(101, 65)\n",
       "    (1): SelfAttention(\n",
       "      (linear_in): Linear(in_features=65, out_features=65, bias=False)\n",
       "      (linear_out): Linear(in_features=130, out_features=65, bias=False)\n",
       "      (activation): SELU()\n",
       "    )\n",
       "    (2): Linear(in_features=65, out_features=36, bias=True)\n",
       "  )\n",
       "  (vae): ModuleList(\n",
       "    (0): Embedding(36, 36, padding_idx=19)\n",
       "    (1): ModuleList(\n",
       "      (0): GRU(36, 64)\n",
       "      (1): Linear(in_features=64, out_features=64, bias=True)\n",
       "      (2): Linear(in_features=64, out_features=64, bias=True)\n",
       "    )\n",
       "    (2): ModuleList(\n",
       "      (0): GRU(101, 65)\n",
       "      (1): SelfAttention(\n",
       "        (linear_in): Linear(in_features=65, out_features=65, bias=False)\n",
       "        (linear_out): Linear(in_features=130, out_features=65, bias=False)\n",
       "        (activation): SELU()\n",
       "      )\n",
       "      (2): Linear(in_features=65, out_features=36, bias=True)\n",
       "    )\n",
       "  )\n",
       "  (discriminator): ModuleList(\n",
       "    (0): CNNEncoder(\n",
       "      (_activation): ReLU()\n",
       "      (conv_layer_0): Conv1d(1, 1, kernel_size=(2,), stride=(1,))\n",
       "      (conv_layer_1): Conv1d(1, 1, kernel_size=(3,), stride=(1,))\n",
       "      (conv_layer_2): Conv1d(1, 1, kernel_size=(4,), stride=(1,))\n",
       "      (conv_layer_3): Conv1d(1, 1, kernel_size=(5,), stride=(1,))\n",
       "    )\n",
       "  )\n",
       ")"
      ]
     },
     "execution_count": 9,
     "metadata": {},
     "output_type": "execute_result"
    }
   ],
   "source": [
    "model = RnnVae(\n",
    "    **args.model,\n",
    "    n_len=corpus.n_len,\n",
    "    x_vocab=corpus.vocab\n",
    ").to(device)\n",
    "model"
   ]
  },
  {
   "cell_type": "code",
   "execution_count": 10,
   "metadata": {},
   "outputs": [
    {
     "data": {
      "text/plain": [
       "'p)c+Cn)S(27'"
      ]
     },
     "execution_count": 10,
     "metadata": {},
     "output_type": "execute_result"
    }
   ],
   "source": [
    "corpus.reverse(model.sample_sentence(1, **args.val.sample_params)[2])[0]  # sanity check"
   ]
  },
  {
   "cell_type": "code",
   "execution_count": 11,
   "metadata": {},
   "outputs": [
    {
     "data": {
      "image/png": "[encoded data removed]",
      "text/plain": [
       "<Figure size 504x504 with 1 Axes>"
      ]
     },
     "metadata": {},
     "output_type": "display_data"
    }
   ],
   "source": [
    "n_epoch = sum(args.train.lr.scheduler.n_period * (args.train.lr.scheduler.n_mult ** i)\n",
    "              for i in range(args.train.lr.scheduler.n_r))\n",
    "kl_annealer = KLAnnealer(**args.train.kl, n_epoch=n_epoch)\n",
    "xs = np.linspace(0, n_epoch, num=n_epoch + 1)\n",
    "ts = np.array([kl_annealer(i) for i in xs])\n",
    "plt.figure(figsize=(7, 7))\n",
    "plt.ylabel('value')\n",
    "plt.xlabel('epoch')\n",
    "plt.title('kl weight')\n",
    "plt.plot(xs, ts);"
   ]
  },
  {
   "cell_type": "code",
   "execution_count": 12,
   "metadata": {},
   "outputs": [],
   "source": [
    "get_params = lambda: (p for p in model.vae.parameters() if p.requires_grad)\n",
    "trainer = optim.Adam(get_params(), lr=args.train.lr.value)\n",
    "lr_scheduler = CosineAnnealingLRWithRestart(trainer, **args.train.lr.scheduler)"
   ]
  },
  {
   "cell_type": "code",
   "execution_count": null,
   "metadata": {},
   "outputs": [
    {
     "data": {
      "application/vnd.jupyter.widget-view+json": {
       "model_id": "415e282df95c4a0c9928bb97af51ff97",
       "version_major": 2,
       "version_minor": 0
      },
      "text/plain": [
       "HBox(children=(IntProgress(value=0, max=3), HTML(value='')))"
      ]
     },
     "metadata": {},
     "output_type": "display_data"
    }
   ],
   "source": [
    "model.train()\n",
    "T = tqdm.tqdm_notebook(range(n_epoch))\n",
    "n_iter, n_last = len(train), 100\n",
    "elog, ilog = Logger(), Logger()\n",
    "\n",
    "for epoch in T:\n",
    "    # Epoch start\n",
    "    kl_weight = kl_annealer(epoch)\n",
    "    \n",
    "    # Iters\n",
    "    for i, x in enumerate(train):\n",
    "        # Forward\n",
    "        kl_loss, recon_loss = model(x, use_c_prior=True)\n",
    "        loss = kl_weight * kl_loss + recon_loss\n",
    "        \n",
    "        # Backward\n",
    "        trainer.zero_grad()\n",
    "        loss.backward()\n",
    "        clip_grad_norm_(get_params(), args.train.grad_clipping)\n",
    "        trainer.step()\n",
    "        \n",
    "        # Log\n",
    "        lr = trainer.param_groups[0]['lr']\n",
    "        ilog.append({\n",
    "            'epoch': epoch,\n",
    "            'kl_loss': kl_loss.item(),\n",
    "            'recon_loss': recon_loss.item(),\n",
    "            'loss': loss.item(),\n",
    "            'kl_weight': kl_weight,\n",
    "            'lr': lr\n",
    "        })\n",
    "        \n",
    "        # Update T\n",
    "        kl_loss_value = np.mean(ilog['kl_loss'][-n_last:])\n",
    "        recon_loss_value = np.mean(ilog['recon_loss'][-n_last:])\n",
    "        loss_value = np.mean(ilog['loss'][-n_last:])\n",
    "        postfix_strs = []\n",
    "        postfix_strs.append(f'i={i}/{n_iter}')\n",
    "        postfix_strs.append(f'kl_loss={kl_loss_value:.5f}')\n",
    "        postfix_strs.append(f'recon_loss={recon_loss_value:.5f}')\n",
    "        postfix_strs.append(f'loss={loss_value:.5f}')\n",
    "        postfix_strs.append(f'klw={kl_weight:.3f} lr={lr:.5f}')\n",
    "        T.set_postfix_str(' '.join(postfix_strs))\n",
    "        T.refresh()\n",
    "    \n",
    "    # Log\n",
    "    sent = corpus.reverse(model.sample_sentence(1, **args.val.sample_params)[2])[0]\n",
    "    elog.append({\n",
    "        **{k: v for k, v in ilog[-1].items() if 'loss' not in k},\n",
    "        'kl_loss': kl_loss_value,\n",
    "        'recon_loss': recon_loss_value,\n",
    "        'loss': loss_value,\n",
    "        'sent': sent\n",
    "    })\n",
    "    \n",
    "    # Print result\n",
    "    print(f\"[epoch={epoch}]: '{sent}'\")\n",
    "    \n",
    "    # Epoch end\n",
    "    lr_scheduler.step()"
   ]
  },
  {
   "cell_type": "code",
   "execution_count": null,
   "metadata": {},
   "outputs": [],
   "source": [
    "plotter = LogPlotter(elog)\n",
    "plotter.grid([\n",
    "    'kl_loss', 'recon_loss',\n",
    "    'loss', 'lr'\n",
    "])"
   ]
  },
  {
   "cell_type": "code",
   "execution_count": null,
   "metadata": {},
   "outputs": [],
   "source": [
    "# Same as Oktai\n",
    "def test_model(dataset, n_gen=1000, n_other=1000):\n",
    "    gen_smiles = corpus.reverse(model.sample_sentence(n_gen, **args.val.sample_params)[2])\n",
    "    other_smiles = random.sample(list(dataset), n_other)\n",
    "\n",
    "    internal_diversity_val = diversity(gen_smiles)\n",
    "    external_diversity_val = diversity(gen_smiles, other_smiles)  # TODO: check it\n",
    "    validity_val = validity(gen_smiles)\n",
    "    uniqueness_val = uniqueness(gen_smiles)\n",
    "\n",
    "    print('\\n###########################')\n",
    "    print('Internal Diversity = {}'.format(internal_diversity_val))\n",
    "    print('External Diversity = {}'.format(external_diversity_val))\n",
    "    print('Validity = {}'.format(validity_val))\n",
    "    print('Uniqueness = {}'.format(uniqueness_val))\n",
    "    print('############################\\n')"
   ]
  },
  {
   "cell_type": "code",
   "execution_count": null,
   "metadata": {},
   "outputs": [],
   "source": [
    "test_model(ds_val)"
   ]
  },
  {
   "cell_type": "code",
   "execution_count": null,
   "metadata": {},
   "outputs": [],
   "source": [
    "path = Bunch(save='vae.pt')\n",
    "torch.save((args, model), path.save)\n",
    "!du -sh {path.save}"
   ]
  }
 ],
 "metadata": {
  "kernelspec": {
   "display_name": "Python 3",
   "language": "python",
   "name": "python3"
  },
  "language_info": {
   "codemirror_mode": {
    "name": "ipython",
    "version": 3
   },
   "file_extension": ".py",
   "mimetype": "text/x-python",
   "name": "python",
   "nbconvert_exporter": "python",
   "pygments_lexer": "ipython3",
   "version": "3.6.5"
  }
 },
 "nbformat": 4,
 "nbformat_minor": 2
}
