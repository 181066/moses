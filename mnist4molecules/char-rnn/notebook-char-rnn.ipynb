{
 "cells": [
  {
   "cell_type": "code",
   "execution_count": 19,
   "metadata": {},
   "outputs": [],
   "source": [
    "import os\n",
    "import torch\n",
    "import random\n",
    "import pandas as pd\n",
    "\n",
    "from training import train_model\n",
    "from testing import test_model\n",
    "from model import CharLSTM\n",
    "from utils import set_seed\n",
    "from dataset import SmilesDataset"
   ]
  },
  {
   "cell_type": "code",
   "execution_count": 14,
   "metadata": {},
   "outputs": [],
   "source": [
    "set_seed(0)\n",
    "\n",
    "data_path = '/media/Molecules/molecules.csv'\n",
    "\n",
    "train_size = 1_000_000\n",
    "val_size = 100_000\n",
    "\n",
    "path_to_save = \"./saved_weights/attempt_3\"\n",
    "\n",
    "n_epochs = 30\n",
    "batch_size = 64\n",
    "lr = 1e-3\n",
    "\n",
    "cuda_device = 2\n",
    "n_jobs = 3"
   ]
  },
  {
   "cell_type": "code",
   "execution_count": 15,
   "metadata": {},
   "outputs": [],
   "source": [
    "data = pd.read_csv(data_path, usecols=['SMILES'], nrows=(train_size + val_size), squeeze=True)\n",
    "data = data.tolist()\n",
    "\n",
    "random.shuffle(data)\n",
    "train_data = data[:train_size]\n",
    "val_data = data[train_size: (train_size + val_size)]\n",
    "\n",
    "train_dataset = SmilesDataset(train_data)\n",
    "val_dataset = SmilesDataset(val_data)"
   ]
  },
  {
   "cell_type": "code",
   "execution_count": 17,
   "metadata": {},
   "outputs": [],
   "source": [
    "train_model(train_dataset, val_dataset, path_to_save, n_epochs, batch_size, lr, n_jobs, cuda_device)"
   ]
  },
  {
   "cell_type": "code",
   "execution_count": 20,
   "metadata": {},
   "outputs": [
    {
     "data": {
      "application/vnd.jupyter.widget-view+json": {
       "model_id": "b140b7d361b94678843e9fa8de1652cc",
       "version_major": 2,
       "version_minor": 0
      },
      "text/plain": [
       "HBox(children=(IntProgress(value=1, bar_style='info', max=1), HTML(value='')))"
      ]
     },
     "metadata": {},
     "output_type": "display_data"
    },
    {
     "name": "stdout",
     "output_type": "stream",
     "text": [
      "Your vocabulary:\n",
      "['#', '(', ')', '+', '-', '1', '2', '3', '4', '5', '6', '7', '8', '<EOS>', '<SOS>', '=', 'B', 'C', 'F', 'H', 'I', 'N', 'O', 'P', 'S', '[', ']', 'c', 'l', 'n', 'o', 'p', 'r', 's']\n",
      "\n",
      "###########################\n",
      "Internal Diversity = 0.10180943047234481\n",
      "External Diversity = 0.12431580941089086\n",
      "Validity = 0.423\n",
      "Uniqueness = 1.0\n",
      "############################\n",
      "\n"
     ]
    }
   ],
   "source": [
    "char_rnn = CharLSTM(hidden_size=32, num_layers=1, train_dataset=train_dataset, val_dataset=val_dataset)\n",
    "char_rnn = char_rnn.to(torch.device('cuda:{device}'.format(device=cuda_device)))\n",
    "char_rnn.load_state_dict(torch.load(os.path.join(path_to_save, \"epoch_best.pt\")))\n",
    "\n",
    "test_model(char_rnn, val_dataset)"
   ]
  }
 ],
 "metadata": {
  "kernelspec": {
   "display_name": "Python 3",
   "language": "python",
   "name": "python3"
  },
  "language_info": {
   "codemirror_mode": {
    "name": "ipython",
    "version": 3
   },
   "file_extension": ".py",
   "mimetype": "text/x-python",
   "name": "python",
   "nbconvert_exporter": "python",
   "pygments_lexer": "ipython3",
   "version": "3.6.5"
  }
 },
 "nbformat": 4,
 "nbformat_minor": 2
}
