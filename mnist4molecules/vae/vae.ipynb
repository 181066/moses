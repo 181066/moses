{
 "cells": [
  {
   "cell_type": "code",
   "execution_count": 1,
   "metadata": {},
   "outputs": [],
   "source": [
    "%reload_ext autoreload\n",
    "%autoreload 2\n",
    "%matplotlib inline"
   ]
  },
  {
   "cell_type": "code",
   "execution_count": 2,
   "metadata": {},
   "outputs": [],
   "source": [
    "import tqdm\n",
    "import torch\n",
    "import random\n",
    "import pandas as pd\n",
    "\n",
    "from vae.model import VAE\n",
    "from vae.misc import LogPlotter\n",
    "from vae.config import get_config\n",
    "from vae.trainer import VAETrainer\n",
    "from mnist4molecules.corpus import PandasDataset, OneHotCorpus\n",
    "from mnist4molecules.metrics import diversity, validity, uniqueness"
   ]
  },
  {
   "cell_type": "code",
   "execution_count": 3,
   "metadata": {},
   "outputs": [
    {
     "name": "stdout",
     "output_type": "stream",
     "text": [
      "Fri Jun 22 21:53:49 2018       \n",
      "+-----------------------------------------------------------------------------+\n",
      "| NVIDIA-SMI 384.130                Driver Version: 384.130                   |\n",
      "|-------------------------------+----------------------+----------------------+\n",
      "| GPU  Name        Persistence-M| Bus-Id        Disp.A | Volatile Uncorr. ECC |\n",
      "| Fan  Temp  Perf  Pwr:Usage/Cap|         Memory-Usage | GPU-Util  Compute M. |\n",
      "|===============================+======================+======================|\n",
      "|   0  GeForce GTX 108...  Off  | 00000000:09:00.0 Off |                  N/A |\n",
      "| 30%   59C    P2    59W / 250W |   8017MiB / 11172MiB |      0%      Default |\n",
      "+-------------------------------+----------------------+----------------------+\n",
      "|   1  GeForce GTX 108...  Off  | 00000000:0A:00.0 Off |                  N/A |\n",
      "| 51%   71C    P5    26W / 250W |     19MiB / 11172MiB |      0%      Default |\n",
      "+-------------------------------+----------------------+----------------------+\n",
      "|   2  GeForce GTX 108...  Off  | 00000000:42:00.0 Off |                  N/A |\n",
      "| 69%   83C    P2   114W / 250W |   9780MiB / 11172MiB |     25%      Default |\n",
      "+-------------------------------+----------------------+----------------------+\n",
      "|   3  GeForce GTX 108...  Off  | 00000000:43:00.0 Off |                  N/A |\n",
      "| 55%   72C    P2    70W / 250W |  10396MiB / 11170MiB |      0%      Default |\n",
      "+-------------------------------+----------------------+----------------------+\n",
      "                                                                               \n",
      "+-----------------------------------------------------------------------------+\n",
      "| Processes:                                                       GPU Memory |\n",
      "|  GPU       PID   Type   Process name                             Usage      |\n",
      "|=============================================================================|\n",
      "|    0      2507      G   /usr/lib/xorg/Xorg                             7MiB |\n",
      "|    0     40841      C   python                                       589MiB |\n",
      "|    1      2507      G   /usr/lib/xorg/Xorg                             7MiB |\n",
      "|    2      2507      G   /usr/lib/xorg/Xorg                             7MiB |\n",
      "|    2     45216      C   python                                      9761MiB |\n",
      "|    3      2507      G   /usr/lib/xorg/Xorg                             7MiB |\n",
      "|    3     40841      C   python                                     10377MiB |\n",
      "+-----------------------------------------------------------------------------+\n"
     ]
    }
   ],
   "source": [
    "!nvidia-smi"
   ]
  },
  {
   "cell_type": "code",
   "execution_count": 4,
   "metadata": {},
   "outputs": [
    {
     "data": {
      "text/plain": [
       "Namespace(d_cell='gru', d_dropout=0.0, d_n_layers=1, d_z=64, device_code=1, freeze_embeddings=False, grad_clipping=10, kl_start=0, kl_w_end=0.1, kl_w_start=0.01, lr_end=0.001, lr_n_mult=1, lr_n_period=1, lr_n_restarts=1, lr_start=0.01, n_batch=32, n_last=1000, n_len=100, q_bidir=True, q_cell='gru', q_d_h=64, q_dropout=0.0, q_n_layers=1, save_path='vae.pt')"
      ]
     },
     "execution_count": 4,
     "metadata": {},
     "output_type": "execute_result"
    }
   ],
   "source": [
    "config = get_config()\n",
    "config.lr_n_period, config.kl_start = 1, 0  # To test\n",
    "config.device_code = 1\n",
    "config"
   ]
  },
  {
   "cell_type": "code",
   "execution_count": 5,
   "metadata": {},
   "outputs": [
    {
     "data": {
      "text/plain": [
       "device(type='cuda', index=1)"
      ]
     },
     "execution_count": 5,
     "metadata": {},
     "output_type": "execute_result"
    }
   ],
   "source": [
    "device = torch.device(\n",
    "    f'cuda:{config.device_code}' \n",
    "    if config.device_code >= 0 and torch.cuda.is_available() \n",
    "    else 'cpu'\n",
    ")\n",
    "torch.cuda.set_device(config.device_code)  # For CUDNN to work\n",
    "device"
   ]
  },
  {
   "cell_type": "code",
   "execution_count": 6,
   "metadata": {},
   "outputs": [
    {
     "name": "stdout",
     "output_type": "stream",
     "text": [
      "CPU times: user 13.6 s, sys: 832 ms, total: 14.4 s\n",
      "Wall time: 14.4 s\n"
     ]
    },
    {
     "data": {
      "text/plain": [
       "(100000, 10000)"
      ]
     },
     "execution_count": 6,
     "metadata": {},
     "output_type": "execute_result"
    }
   ],
   "source": [
    "data_path = '/media/Molecules/molecules.csv'\n",
    "n_train, n_val = 1_000_00, 100_00\n",
    "\n",
    "%time data = pd.read_csv(data_path, usecols=['SMILES'])\n",
    "data = data.sample(n_train + n_val)\n",
    "\n",
    "train, val = data[:n_train], data[n_train: n_train + n_val]\n",
    "train, val = PandasDataset(train), PandasDataset(val)\n",
    "len(train), len(val)"
   ]
  },
  {
   "cell_type": "code",
   "execution_count": 7,
   "metadata": {},
   "outputs": [
    {
     "name": "stderr",
     "output_type": "stream",
     "text": [
      "Fitting corpus with vocab: 100%|██████████| 100000/100000 [00:01<00:00, 73714.26it/s]\n"
     ]
    }
   ],
   "source": [
    "corpus = OneHotCorpus(config.n_batch, device)\n",
    "train = corpus.fit_transform(train)\n",
    "# val = corpus.transform(val)\n",
    "ds_val = val  # dataset"
   ]
  },
  {
   "cell_type": "code",
   "execution_count": 8,
   "metadata": {},
   "outputs": [
    {
     "data": {
      "text/plain": [
       "VAE(\n",
       "  (x_emb): Embedding(34, 34, padding_idx=24)\n",
       "  (encoder_rnn): GRU(34, 64, batch_first=True, bidirectional=True)\n",
       "  (q_mu): Linear(in_features=128, out_features=64, bias=True)\n",
       "  (q_logvar): Linear(in_features=128, out_features=64, bias=True)\n",
       "  (decoder_rnn): GRU(98, 64, batch_first=True)\n",
       "  (decoder_fc): Linear(in_features=64, out_features=34, bias=True)\n",
       "  (encoder): ModuleList(\n",
       "    (0): GRU(34, 64, batch_first=True, bidirectional=True)\n",
       "    (1): Linear(in_features=128, out_features=64, bias=True)\n",
       "    (2): Linear(in_features=128, out_features=64, bias=True)\n",
       "  )\n",
       "  (decoder): ModuleList(\n",
       "    (0): GRU(98, 64, batch_first=True)\n",
       "    (1): Linear(in_features=64, out_features=34, bias=True)\n",
       "  )\n",
       "  (vae): ModuleList(\n",
       "    (0): Embedding(34, 34, padding_idx=24)\n",
       "    (1): ModuleList(\n",
       "      (0): GRU(34, 64, batch_first=True, bidirectional=True)\n",
       "      (1): Linear(in_features=128, out_features=64, bias=True)\n",
       "      (2): Linear(in_features=128, out_features=64, bias=True)\n",
       "    )\n",
       "    (2): ModuleList(\n",
       "      (0): GRU(98, 64, batch_first=True)\n",
       "      (1): Linear(in_features=64, out_features=34, bias=True)\n",
       "    )\n",
       "  )\n",
       ")"
      ]
     },
     "execution_count": 8,
     "metadata": {},
     "output_type": "execute_result"
    }
   ],
   "source": [
    "model = VAE(corpus.vocab, config).to(device)\n",
    "trainer = VAETrainer(config) \n",
    "model"
   ]
  },
  {
   "cell_type": "code",
   "execution_count": 9,
   "metadata": {},
   "outputs": [
    {
     "name": "stdout",
     "output_type": "stream",
     "text": [
      "kl_loss=0.22 recon_loss=3.60\n",
      "sampled_x='1c1Brs-[1'\n"
     ]
    }
   ],
   "source": [
    "# Sanity check\n",
    "x = next(iter(train))\n",
    "kl_loss, recon_loss = model(x)\n",
    "sampled_x = corpus.reverse(trainer.sample(model, 1))[0]\n",
    "print(f\"kl_loss={kl_loss:.2f} recon_loss={recon_loss:.2f}\\nsampled_x='{sampled_x}'\")"
   ]
  },
  {
   "cell_type": "code",
   "execution_count": 10,
   "metadata": {},
   "outputs": [
    {
     "name": "stderr",
     "output_type": "stream",
     "text": [
      "100%|██████████| 1/1 [01:33<00:00, 93.69s/it, i=3124/3125 loss=0.90115 (kl=2.99499 recon=0.87120) klw=0.01 lr=0.01000]"
     ]
    },
    {
     "name": "stdout",
     "output_type": "stream",
     "text": [
      "[epoch=0]: 'CC[NH+]1CC[NH+](C)C(C)(C)OC)c1'\n"
     ]
    },
    {
     "name": "stderr",
     "output_type": "stream",
     "text": [
      "\n"
     ]
    }
   ],
   "source": [
    "elog, ilog = trainer.fit(model, train, corpus)"
   ]
  },
  {
   "cell_type": "code",
   "execution_count": 11,
   "metadata": {},
   "outputs": [
    {
     "data": {
      "image/png": "[encoded data removed]",
      "text/plain": [
       "<Figure size 1008x1008 with 4 Axes>"
      ]
     },
     "metadata": {},
     "output_type": "display_data"
    }
   ],
   "source": [
    "plotter = LogPlotter(elog)\n",
    "plotter.grid([\n",
    "    'kl_loss', 'recon_loss',\n",
    "    'loss', 'lr'\n",
    "])"
   ]
  },
  {
   "cell_type": "code",
   "execution_count": 12,
   "metadata": {},
   "outputs": [],
   "source": [
    "# Same as Oktai\n",
    "def test_model(dataset, n_gen=1000, n_other=1000):\n",
    "    gen_smiles = []\n",
    "    for _ in tqdm.tqdm_notebook(range(n_gen // 100)):  # hack\n",
    "        gen_smiles.extend(corpus.reverse(trainer.sample(model, 100)))\n",
    "        \n",
    "    other_smiles = random.sample(list(dataset), n_other)\n",
    "\n",
    "    internal_diversity_val = diversity(gen_smiles)\n",
    "    external_diversity_val = diversity(gen_smiles, other_smiles)  # TODO: check it\n",
    "    validity_val = validity(gen_smiles)\n",
    "    uniqueness_val = uniqueness(gen_smiles)\n",
    "\n",
    "    print('\\n###########################')\n",
    "    print('Internal Diversity = {}'.format(internal_diversity_val))\n",
    "    print('External Diversity = {}'.format(external_diversity_val))\n",
    "    print('Validity = {}'.format(validity_val))\n",
    "    print('Uniqueness = {}'.format(uniqueness_val))\n",
    "    print('############################\\n')"
   ]
  },
  {
   "cell_type": "code",
   "execution_count": 13,
   "metadata": {},
   "outputs": [
    {
     "data": {
      "application/vnd.jupyter.widget-view+json": {
       "model_id": "d313de247d314c0586bf75750a38f474",
       "version_major": 2,
       "version_minor": 0
      },
      "text/plain": [
       "HBox(children=(IntProgress(value=0, max=10), HTML(value='')))"
      ]
     },
     "metadata": {},
     "output_type": "display_data"
    },
    {
     "name": "stdout",
     "output_type": "stream",
     "text": [
      "\n",
      "\n",
      "###########################\n",
      "Internal Diversity = 0.031227188890009607\n",
      "External Diversity = 0.04868830638904869\n",
      "Validity = 0.108\n",
      "Uniqueness = 1.0\n",
      "############################\n",
      "\n"
     ]
    }
   ],
   "source": [
    "test_model(ds_val)"
   ]
  },
  {
   "cell_type": "code",
   "execution_count": 14,
   "metadata": {},
   "outputs": [
    {
     "name": "stdout",
     "output_type": "stream",
     "text": [
      "du: cannot access '{path.save}': No such file or directory\r\n"
     ]
    }
   ],
   "source": [
    "torch.save(model, config.save_path)\n",
    "!du -sh {path.save}"
   ]
  }
 ],
 "metadata": {
  "kernelspec": {
   "display_name": "Python 3",
   "language": "python",
   "name": "python3"
  },
  "language_info": {
   "codemirror_mode": {
    "name": "ipython",
    "version": 3
   },
   "file_extension": ".py",
   "mimetype": "text/x-python",
   "name": "python",
   "nbconvert_exporter": "python",
   "pygments_lexer": "ipython3",
   "version": "3.6.5"
  }
 },
 "nbformat": 4,
 "nbformat_minor": 2
}
