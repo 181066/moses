{
 "cells": [
  {
   "cell_type": "code",
   "execution_count": 23,
   "metadata": {},
   "outputs": [],
   "source": [
    "import numpy as np\n",
    "\n",
    "from rdkit.Chem import AllChem as Chem\n",
    "from rdkit import DataStructs"
   ]
  },
  {
   "cell_type": "code",
   "execution_count": 24,
   "metadata": {},
   "outputs": [],
   "source": [
    "def validity(smiles):\n",
    "    def verify_sequence(smile):\n",
    "        mol = Chem.MolFromSmiles(smile)\n",
    "\n",
    "        return smile != '' and mol is not None and mol.GetNumAtoms() > 1\n",
    "\n",
    "    n_smiles = len(smiles)\n",
    "    n_valid_smiles = sum(map(verify_sequence, smiles))\n",
    "\n",
    "    return n_valid_smiles / n_smiles"
   ]
  },
  {
   "cell_type": "code",
   "execution_count": 25,
   "metadata": {},
   "outputs": [],
   "source": [
    "def uniqueness(smiles):\n",
    "    n_smiles = len(smiles)\n",
    "    n_uniq_smiles = len(set(smiles))\n",
    "\n",
    "    return n_uniq_smiles / n_smiles"
   ]
  },
  {
   "cell_type": "code",
   "execution_count": 26,
   "metadata": {},
   "outputs": [],
   "source": [
    "with open(\"./result/sampled_smiles_pre_vae.txt\") as f:\n",
    "    list_smiles = []\n",
    "    for i in f:\n",
    "        s = i.strip(\"\\r\\n \")\n",
    "        if s != \"EMPTY\":\n",
    "            list_smiles.append(s)"
   ]
  },
  {
   "cell_type": "code",
   "execution_count": 27,
   "metadata": {},
   "outputs": [
    {
     "data": {
      "text/plain": [
       "100"
      ]
     },
     "execution_count": 27,
     "metadata": {},
     "output_type": "execute_result"
    }
   ],
   "source": [
    "len(list_smiles)"
   ]
  },
  {
   "cell_type": "code",
   "execution_count": 28,
   "metadata": {},
   "outputs": [],
   "source": [
    "with open(\"./data/test.txt\") as f:\n",
    "    list_test_smiles = []\n",
    "    for i, e in enumerate(f):\n",
    "        if i == 100: \n",
    "            break\n",
    "        list_test_smiles.append(e)"
   ]
  },
  {
   "cell_type": "code",
   "execution_count": 29,
   "metadata": {},
   "outputs": [
    {
     "data": {
      "text/plain": [
       "1.0"
      ]
     },
     "execution_count": 29,
     "metadata": {},
     "output_type": "execute_result"
    }
   ],
   "source": [
    "validity(list_smiles)"
   ]
  },
  {
   "cell_type": "code",
   "execution_count": 30,
   "metadata": {},
   "outputs": [],
   "source": [
    "def uniqueness(smiles):\n",
    "    n_smiles = len(smiles)\n",
    "    n_uniq_smiles = len(set(smiles))\n",
    "\n",
    "    return n_uniq_smiles / n_smiles"
   ]
  },
  {
   "cell_type": "code",
   "execution_count": 31,
   "metadata": {},
   "outputs": [
    {
     "data": {
      "text/plain": [
       "1.0"
      ]
     },
     "execution_count": 31,
     "metadata": {},
     "output_type": "execute_result"
    }
   ],
   "source": [
    "uniqueness(list_smiles)"
   ]
  },
  {
   "cell_type": "code",
   "execution_count": 32,
   "metadata": {},
   "outputs": [],
   "source": [
    "def diversity(smiles, other_smiles=None):\n",
    "    def remap(x, x_min, x_max):\n",
    "        if x_max == 0 and x_min == 0:\n",
    "            return 0\n",
    "\n",
    "        if x_max - x_min == 0:\n",
    "            return x\n",
    "\n",
    "        return (x - x_min) / (x_max - x_min)\n",
    "\n",
    "    def calc_diversity(smile, fps):\n",
    "        mol = Chem.MolFromSmiles(smile)\n",
    "        if smile != '' and mol is not None and mol.GetNumAtoms() > 1:\n",
    "            ref_fps = Chem.GetMorganFingerprintAsBitVect(mol, 4, nBits=2048)\n",
    "            dist = DataStructs.BulkTanimotoSimilarity(ref_fps, fps, returnDistance=True)\n",
    "            mean_dist = np.mean(dist)\n",
    "\n",
    "            low_rand_dst, mean_div_dst = 0.9, 0.945\n",
    "            val = remap(mean_dist, low_rand_dst, mean_div_dst)\n",
    "            val = np.clip(val, 0.0, 1.0)\n",
    "\n",
    "            return val\n",
    "\n",
    "        return 0\n",
    "\n",
    "    if other_smiles is None:\n",
    "        other_smiles = smiles\n",
    "\n",
    "    mols = [Chem.MolFromSmiles(s) for s in other_smiles]\n",
    "    fps = [Chem.GetMorganFingerprintAsBitVect(m, 4, nBits=2048) for m in mols if m is not None]\n",
    "    divs = [calc_diversity(s, fps=fps) for s in smiles]\n",
    "\n",
    "    return np.mean(divs)"
   ]
  },
  {
   "cell_type": "code",
   "execution_count": 33,
   "metadata": {},
   "outputs": [
    {
     "data": {
      "text/plain": [
       "0.3024808672481752"
      ]
     },
     "execution_count": 33,
     "metadata": {},
     "output_type": "execute_result"
    }
   ],
   "source": [
    "diversity(list_smiles, list_test_smiles)"
   ]
  },
  {
   "cell_type": "code",
   "execution_count": 34,
   "metadata": {},
   "outputs": [],
   "source": [
    "import pandas as pd"
   ]
  },
  {
   "cell_type": "code",
   "execution_count": 35,
   "metadata": {},
   "outputs": [],
   "source": [
    "data = pd.read_csv('/data/Insilico/mmnist_dataset/data/mcf_dataset_splitted.csv')"
   ]
  },
  {
   "cell_type": "code",
   "execution_count": 49,
   "metadata": {},
   "outputs": [
    {
     "data": {
      "text/html": [
       "<div>\n",
       "<style scoped>\n",
       "    .dataframe tbody tr th:only-of-type {\n",
       "        vertical-align: middle;\n",
       "    }\n",
       "\n",
       "    .dataframe tbody tr th {\n",
       "        vertical-align: top;\n",
       "    }\n",
       "\n",
       "    .dataframe thead th {\n",
       "        text-align: right;\n",
       "    }\n",
       "</style>\n",
       "<table border=\"1\" class=\"dataframe\">\n",
       "  <thead>\n",
       "    <tr style=\"text-align: right;\">\n",
       "      <th></th>\n",
       "      <th>ID</th>\n",
       "      <th>SMILES</th>\n",
       "      <th>logP</th>\n",
       "      <th>SA</th>\n",
       "      <th>QED</th>\n",
       "      <th>split</th>\n",
       "    </tr>\n",
       "  </thead>\n",
       "  <tbody>\n",
       "    <tr>\n",
       "      <th>0</th>\n",
       "      <td>ZINC50764925</td>\n",
       "      <td>CCCCNC(=O)C1CCCN(C(=O)CCC(C)C)C1</td>\n",
       "      <td>2.5775</td>\n",
       "      <td>2.4214</td>\n",
       "      <td>0.7296</td>\n",
       "      <td>train</td>\n",
       "    </tr>\n",
       "    <tr>\n",
       "      <th>1</th>\n",
       "      <td>ZINC65292537</td>\n",
       "      <td>Cc1ccccc1C(=O)N1CCC(Cc2nc3cccnc3n2C)C1</td>\n",
       "      <td>2.9815</td>\n",
       "      <td>2.6987</td>\n",
       "      <td>0.7398</td>\n",
       "      <td>train</td>\n",
       "    </tr>\n",
       "    <tr>\n",
       "      <th>2</th>\n",
       "      <td>ZINC31820077</td>\n",
       "      <td>CCc1c(C(=O)N2CCC(C(=O)NC)CC2)cnn1-c1ccccn1</td>\n",
       "      <td>1.4279</td>\n",
       "      <td>2.3242</td>\n",
       "      <td>0.9122</td>\n",
       "      <td>test_scaffolds</td>\n",
       "    </tr>\n",
       "    <tr>\n",
       "      <th>3</th>\n",
       "      <td>ZINC65513427</td>\n",
       "      <td>CC(=O)Nc1ccc2nc(NC(=O)C3CC3c3ccco3)sc2c1</td>\n",
       "      <td>3.5899</td>\n",
       "      <td>3.0427</td>\n",
       "      <td>0.7594</td>\n",
       "      <td>test</td>\n",
       "    </tr>\n",
       "    <tr>\n",
       "      <th>4</th>\n",
       "      <td>ZINC02782238</td>\n",
       "      <td>CCn1cc(C(=O)Nc2cn(CC)nc2C(N)=O)c(C)n1</td>\n",
       "      <td>0.7790</td>\n",
       "      <td>2.5080</td>\n",
       "      <td>0.8477</td>\n",
       "      <td>test</td>\n",
       "    </tr>\n",
       "  </tbody>\n",
       "</table>\n",
       "</div>"
      ],
      "text/plain": [
       "             ID                                      SMILES    logP      SA  \\\n",
       "0  ZINC50764925            CCCCNC(=O)C1CCCN(C(=O)CCC(C)C)C1  2.5775  2.4214   \n",
       "1  ZINC65292537      Cc1ccccc1C(=O)N1CCC(Cc2nc3cccnc3n2C)C1  2.9815  2.6987   \n",
       "2  ZINC31820077  CCc1c(C(=O)N2CCC(C(=O)NC)CC2)cnn1-c1ccccn1  1.4279  2.3242   \n",
       "3  ZINC65513427    CC(=O)Nc1ccc2nc(NC(=O)C3CC3c3ccco3)sc2c1  3.5899  3.0427   \n",
       "4  ZINC02782238       CCn1cc(C(=O)Nc2cn(CC)nc2C(N)=O)c(C)n1  0.7790  2.5080   \n",
       "\n",
       "      QED           split  \n",
       "0  0.7296           train  \n",
       "1  0.7398           train  \n",
       "2  0.9122  test_scaffolds  \n",
       "3  0.7594            test  \n",
       "4  0.8477            test  "
      ]
     },
     "execution_count": 49,
     "metadata": {},
     "output_type": "execute_result"
    }
   ],
   "source": [
    "data.head()"
   ]
  },
  {
   "cell_type": "code",
   "execution_count": 37,
   "metadata": {},
   "outputs": [],
   "source": [
    "train_data = data.loc[data['split'] == \"train\"]"
   ]
  },
  {
   "cell_type": "code",
   "execution_count": 38,
   "metadata": {},
   "outputs": [
    {
     "data": {
      "text/plain": [
       "(1759412, 6)"
      ]
     },
     "execution_count": 38,
     "metadata": {},
     "output_type": "execute_result"
    }
   ],
   "source": [
    "train_data.shape"
   ]
  },
  {
   "cell_type": "code",
   "execution_count": 45,
   "metadata": {},
   "outputs": [],
   "source": [
    "a = train_data.sample(200_000)"
   ]
  },
  {
   "cell_type": "code",
   "execution_count": 47,
   "metadata": {},
   "outputs": [
    {
     "data": {
      "text/html": [
       "<div>\n",
       "<style scoped>\n",
       "    .dataframe tbody tr th:only-of-type {\n",
       "        vertical-align: middle;\n",
       "    }\n",
       "\n",
       "    .dataframe tbody tr th {\n",
       "        vertical-align: top;\n",
       "    }\n",
       "\n",
       "    .dataframe thead th {\n",
       "        text-align: right;\n",
       "    }\n",
       "</style>\n",
       "<table border=\"1\" class=\"dataframe\">\n",
       "  <thead>\n",
       "    <tr style=\"text-align: right;\">\n",
       "      <th></th>\n",
       "      <th>ID</th>\n",
       "      <th>SMILES</th>\n",
       "      <th>logP</th>\n",
       "      <th>SA</th>\n",
       "      <th>QED</th>\n",
       "      <th>split</th>\n",
       "    </tr>\n",
       "  </thead>\n",
       "  <tbody>\n",
       "    <tr>\n",
       "      <th>24536</th>\n",
       "      <td>ZINC75840918</td>\n",
       "      <td>FC(F)(F)c1ccc2nnc(C3CCCC3)n2n1</td>\n",
       "      <td>2.8007</td>\n",
       "      <td>2.5409</td>\n",
       "      <td>0.7875</td>\n",
       "      <td>train</td>\n",
       "    </tr>\n",
       "    <tr>\n",
       "      <th>1978886</th>\n",
       "      <td>ZINC76867352</td>\n",
       "      <td>Cc1nc(C)c(CNC(C)COc2ccc(F)cc2F)s1</td>\n",
       "      <td>3.5952</td>\n",
       "      <td>2.7771</td>\n",
       "      <td>0.8848</td>\n",
       "      <td>train</td>\n",
       "    </tr>\n",
       "    <tr>\n",
       "      <th>605073</th>\n",
       "      <td>ZINC62466901</td>\n",
       "      <td>CCC(C)OC(=O)Cn1c(-c2ccc(N)cc2)csc1=O</td>\n",
       "      <td>2.5007</td>\n",
       "      <td>2.8558</td>\n",
       "      <td>0.6801</td>\n",
       "      <td>train</td>\n",
       "    </tr>\n",
       "    <tr>\n",
       "      <th>1340705</th>\n",
       "      <td>ZINC19404995</td>\n",
       "      <td>Cc1c(N)cccc1NC(=O)C1Cc2ccccc2O1</td>\n",
       "      <td>2.5194</td>\n",
       "      <td>2.4691</td>\n",
       "      <td>0.8225</td>\n",
       "      <td>train</td>\n",
       "    </tr>\n",
       "    <tr>\n",
       "      <th>35366</th>\n",
       "      <td>ZINC55211885</td>\n",
       "      <td>CCN(Cc1nc(COC)no1)c1nc(C)nc2oc(C)nc12</td>\n",
       "      <td>1.7905</td>\n",
       "      <td>3.0739</td>\n",
       "      <td>0.6723</td>\n",
       "      <td>train</td>\n",
       "    </tr>\n",
       "  </tbody>\n",
       "</table>\n",
       "</div>"
      ],
      "text/plain": [
       "                   ID                                 SMILES    logP      SA  \\\n",
       "24536    ZINC75840918         FC(F)(F)c1ccc2nnc(C3CCCC3)n2n1  2.8007  2.5409   \n",
       "1978886  ZINC76867352      Cc1nc(C)c(CNC(C)COc2ccc(F)cc2F)s1  3.5952  2.7771   \n",
       "605073   ZINC62466901   CCC(C)OC(=O)Cn1c(-c2ccc(N)cc2)csc1=O  2.5007  2.8558   \n",
       "1340705  ZINC19404995        Cc1c(N)cccc1NC(=O)C1Cc2ccccc2O1  2.5194  2.4691   \n",
       "35366    ZINC55211885  CCN(Cc1nc(COC)no1)c1nc(C)nc2oc(C)nc12  1.7905  3.0739   \n",
       "\n",
       "            QED  split  \n",
       "24536    0.7875  train  \n",
       "1978886  0.8848  train  \n",
       "605073   0.6801  train  \n",
       "1340705  0.8225  train  \n",
       "35366    0.6723  train  "
      ]
     },
     "execution_count": 47,
     "metadata": {},
     "output_type": "execute_result"
    }
   ],
   "source": [
    "a.head()"
   ]
  },
  {
   "cell_type": "code",
   "execution_count": 48,
   "metadata": {},
   "outputs": [],
   "source": [
    "a.to_csv(\"./mcf_dataset_train_200k.csv\")"
   ]
  },
  {
   "cell_type": "code",
   "execution_count": 52,
   "metadata": {},
   "outputs": [],
   "source": [
    "test_data = data.loc[data['split'] == \"test\"]\n",
    "test_sc_data = data.loc[data['split'] == \"test_scaffolds\"]\n",
    "\n",
    "test_data.sample(20000).to_csv(\"./mcf_dataset_test_20k.csv\")\n",
    "test_sc_data.sample(20000).to_csv(\"./mcf_dataset_test_scaffolds_20k.csv\")"
   ]
  }
 ],
 "metadata": {
  "kernelspec": {
   "display_name": "Python 3",
   "language": "python",
   "name": "python3"
  },
  "language_info": {
   "codemirror_mode": {
    "name": "ipython",
    "version": 3
   },
   "file_extension": ".py",
   "mimetype": "text/x-python",
   "name": "python",
   "nbconvert_exporter": "python",
   "pygments_lexer": "ipython3",
   "version": "3.6.5"
  }
 },
 "nbformat": 4,
 "nbformat_minor": 2
}
