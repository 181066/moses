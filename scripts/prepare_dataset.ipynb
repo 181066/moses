{
 "cells": [
  {
   "cell_type": "markdown",
   "metadata": {},
   "source": [
    "## Molecular MNIST dataset preparation"
   ]
  },
  {
   "cell_type": "markdown",
   "metadata": {},
   "source": [
    "A constructed set of molecules is based on a clean-leads dataset collected from ZINC: http://zinc.docking.org/subsets/clean-leads. This dataset contains $4{,}591{,}276$ molecules obtained from the ZINC databes by retaining only molecules with molecular weight in range from 250 to 350 Daltons, the number of rotatable bonds not greater than 7, and XlogP less or equal to $3.5$.\n",
    "\n",
    "We removed molecules containing charged atoms or atoms besides C, N, S, O, F, Cl, Br, H. We also removed molecules containing some substructures using medicinal chemistry filters and Pains. For final molecules we computed canonic SMILES along with logP, Synthetic Accessibility (SA) and Quantitative Estimation of Druglikeness (QED)."
   ]
  },
  {
   "cell_type": "code",
   "execution_count": 1,
   "metadata": {},
   "outputs": [],
   "source": [
    "%load_ext autoreload\n",
    "%autoreload 2\n",
    "import pandas as pd\n",
    "import numpy as np\n",
    "from rdkit.Chem.PandasTools import LoadSDF, AddMoleculeColumnToFrame\n",
    "from rdkit import Chem\n",
    "from multiprocessing import Pool\n",
    "import glob\n",
    "import progressbar\n",
    "from matplotlib import pyplot as plt\n",
    "%matplotlib inline"
   ]
  },
  {
   "cell_type": "code",
   "execution_count": null,
   "metadata": {},
   "outputs": [],
   "source": [
    "# Retrieve Clean-Leads dataset from ZINC\n",
    "! mkdir -p tmp_data/\n",
    "! wget http://zinc.docking.org/db/bysubset/11/usual.sdf.csh -P tmp_data/\n",
    "! cd tmp_data && csh usual.sdf.csh"
   ]
  },
  {
   "cell_type": "code",
   "execution_count": 3,
   "metadata": {
    "scrolled": true
   },
   "outputs": [
    {
     "data": {
      "text/html": [
       "<div>\n",
       "<style scoped>\n",
       "    .dataframe tbody tr th:only-of-type {\n",
       "        vertical-align: middle;\n",
       "    }\n",
       "\n",
       "    .dataframe tbody tr th {\n",
       "        vertical-align: top;\n",
       "    }\n",
       "\n",
       "    .dataframe thead th {\n",
       "        text-align: right;\n",
       "    }\n",
       "</style>\n",
       "<table border=\"1\" class=\"dataframe\">\n",
       "  <thead>\n",
       "    <tr style=\"text-align: right;\">\n",
       "      <th></th>\n",
       "      <th>names</th>\n",
       "      <th>smarts</th>\n",
       "    </tr>\n",
       "  </thead>\n",
       "  <tbody>\n",
       "    <tr>\n",
       "      <th>0</th>\n",
       "      <td>MCF1</td>\n",
       "      <td>[#6]=&amp;!@[#6]-[#6]#[#7]</td>\n",
       "    </tr>\n",
       "    <tr>\n",
       "      <th>1</th>\n",
       "      <td>MCF2</td>\n",
       "      <td>[#6]=&amp;!@[#6]-[#16](=[#8])=[#8]</td>\n",
       "    </tr>\n",
       "    <tr>\n",
       "      <th>2</th>\n",
       "      <td>MCF3</td>\n",
       "      <td>[#6]=&amp;!@[#6&amp;!H0]-&amp;!@[#6](=[#8])-&amp;!@[#7]</td>\n",
       "    </tr>\n",
       "    <tr>\n",
       "      <th>3</th>\n",
       "      <td>MCF4</td>\n",
       "      <td>[H]C([H])([#6])[F,Cl,Br,I]</td>\n",
       "    </tr>\n",
       "    <tr>\n",
       "      <th>4</th>\n",
       "      <td>MCF5</td>\n",
       "      <td>[#6]1-[#8]-[#6]-1</td>\n",
       "    </tr>\n",
       "  </tbody>\n",
       "</table>\n",
       "</div>"
      ],
      "text/plain": [
       "  names                                   smarts\n",
       "0  MCF1                   [#6]=&!@[#6]-[#6]#[#7]\n",
       "1  MCF2           [#6]=&!@[#6]-[#16](=[#8])=[#8]\n",
       "2  MCF3  [#6]=&!@[#6&!H0]-&!@[#6](=[#8])-&!@[#7]\n",
       "3  MCF4               [H]C([H])([#6])[F,Cl,Br,I]\n",
       "4  MCF5                        [#6]1-[#8]-[#6]-1"
      ]
     },
     "execution_count": 3,
     "metadata": {},
     "output_type": "execute_result"
    }
   ],
   "source": [
    "mcf = pd.read_csv('../moses/metrics/mcf.csv')\n",
    "pains = pd.read_csv('../moses/metrics/wehi_pains.csv', names=['smarts', 'names'])\n",
    "joint_smarts = mcf.append(pains, sort=True)\n",
    "filters = [Chem.MolFromSmarts(x) for x in joint_smarts['smarts'].values]\n",
    "joint_smarts.head()"
   ]
  },
  {
   "cell_type": "code",
   "execution_count": 18,
   "metadata": {},
   "outputs": [],
   "source": [
    "def process_molecule(mol_row, allowed={'C','N','S','O','F','Cl','Br','H'}):\n",
    "    id_ = mol_row[1]['ID']\n",
    "    mol = mol_row[1]['ROMol']\n",
    "    h_mol = Chem.AddHs(mol)\n",
    "    for smarts in filters:\n",
    "        if h_mol.HasSubstructMatch(smarts):\n",
    "            return None\n",
    "    if not all([atom.GetFormalCharge()==0 for atom in mol.GetAtoms()]):\n",
    "        return None\n",
    "    if not all([atom.GetSymbol() in allowed for atom in mol.GetAtoms()]):\n",
    "        return None\n",
    "    smiles = Chem.MolToSmiles(mol)\n",
    "    if smiles is None or len(smiles) == 0:\n",
    "        return None\n",
    "    if Chem.MolFromSmiles(smiles) is None:\n",
    "        return None\n",
    "    return id_, smiles"
   ]
  },
  {
   "cell_type": "code",
   "execution_count": null,
   "metadata": {
    "scrolled": false
   },
   "outputs": [],
   "source": [
    "pool = Pool(16)\n",
    "with open('tmp_data/mcf_dataset.csv', 'w') as f:\n",
    "    f.write('ID,SMILES\\n')\n",
    "    for filename in sorted(glob.glob('tmp_data/*.sdf.gz')):\n",
    "        print('Processing {}'.format(filename))\n",
    "        mols = LoadSDF(filename)\n",
    "        bar = progressbar.ProgressBar(max_value=len(mols))\n",
    "        for res in bar(pool.imap(process_molecule, mols.iterrows())):\n",
    "            if res is None:\n",
    "                continue\n",
    "            f.write('{0},{1}\\n'.format(*res))"
   ]
  },
  {
   "cell_type": "markdown",
   "metadata": {},
   "source": [
    "### Splitting the dataset"
   ]
  },
  {
   "cell_type": "code",
   "execution_count": 2,
   "metadata": {},
   "outputs": [],
   "source": [
    "from rdkit.Chem.Scaffolds import MurckoScaffold\n",
    "\n",
    "def get_n_rings(mol):\n",
    "    return mol.GetRingInfo().NumRings()\n",
    "\n",
    "def compute_scaffold(smiles, min_rings=2):\n",
    "    mol = Chem.MolFromSmiles(smiles)\n",
    "    scaffold = MurckoScaffold.GetScaffoldForMol(mol)\n",
    "    n_rings = get_n_rings(scaffold)\n",
    "    scaffold_smiles = Chem.MolToSmiles(scaffold)\n",
    "    if scaffold_smiles == '' or n_rings < min_rings:\n",
    "        return None\n",
    "    else:\n",
    "        return scaffold_smiles"
   ]
  },
  {
   "cell_type": "code",
   "execution_count": 3,
   "metadata": {},
   "outputs": [
    {
     "data": {
      "text/html": [
       "<div>\n",
       "<style scoped>\n",
       "    .dataframe tbody tr th:only-of-type {\n",
       "        vertical-align: middle;\n",
       "    }\n",
       "\n",
       "    .dataframe tbody tr th {\n",
       "        vertical-align: top;\n",
       "    }\n",
       "\n",
       "    .dataframe thead th {\n",
       "        text-align: right;\n",
       "    }\n",
       "</style>\n",
       "<table border=\"1\" class=\"dataframe\">\n",
       "  <thead>\n",
       "    <tr style=\"text-align: right;\">\n",
       "      <th></th>\n",
       "      <th>ID</th>\n",
       "      <th>SMILES</th>\n",
       "    </tr>\n",
       "  </thead>\n",
       "  <tbody>\n",
       "    <tr>\n",
       "      <th>0</th>\n",
       "      <td>ZINC50764925</td>\n",
       "      <td>CCCCNC(=O)C1CCCN(C(=O)CCC(C)C)C1</td>\n",
       "    </tr>\n",
       "    <tr>\n",
       "      <th>1</th>\n",
       "      <td>ZINC65292537</td>\n",
       "      <td>Cc1ccccc1C(=O)N1CCC(Cc2nc3cccnc3n2C)C1</td>\n",
       "    </tr>\n",
       "    <tr>\n",
       "      <th>2</th>\n",
       "      <td>ZINC31820077</td>\n",
       "      <td>CCc1c(C(=O)N2CCC(C(=O)NC)CC2)cnn1-c1ccccn1</td>\n",
       "    </tr>\n",
       "    <tr>\n",
       "      <th>3</th>\n",
       "      <td>ZINC65513427</td>\n",
       "      <td>CC(=O)Nc1ccc2nc(NC(=O)C3CC3c3ccco3)sc2c1</td>\n",
       "    </tr>\n",
       "    <tr>\n",
       "      <th>4</th>\n",
       "      <td>ZINC02782238</td>\n",
       "      <td>CCn1cc(C(=O)Nc2cn(CC)nc2C(N)=O)c(C)n1</td>\n",
       "    </tr>\n",
       "  </tbody>\n",
       "</table>\n",
       "</div>"
      ],
      "text/plain": [
       "             ID                                      SMILES\n",
       "0  ZINC50764925            CCCCNC(=O)C1CCCN(C(=O)CCC(C)C)C1\n",
       "1  ZINC65292537      Cc1ccccc1C(=O)N1CCC(Cc2nc3cccnc3n2C)C1\n",
       "2  ZINC31820077  CCc1c(C(=O)N2CCC(C(=O)NC)CC2)cnn1-c1ccccn1\n",
       "3  ZINC65513427    CC(=O)Nc1ccc2nc(NC(=O)C3CC3c3ccco3)sc2c1\n",
       "4  ZINC02782238       CCn1cc(C(=O)Nc2cn(CC)nc2C(N)=O)c(C)n1"
      ]
     },
     "execution_count": 3,
     "metadata": {},
     "output_type": "execute_result"
    }
   ],
   "source": [
    "dataset = pd.read_csv('tmp_data/mcf_dataset.csv')\n",
    "dataset = dataset.drop_duplicates('SMILES')\n",
    "dataset.head()"
   ]
  },
  {
   "cell_type": "code",
   "execution_count": 4,
   "metadata": {},
   "outputs": [
    {
     "data": {
      "text/html": [
       "<table border=\"1\" class=\"dataframe\">\n",
       "  <thead>\n",
       "    <tr style=\"text-align: right;\">\n",
       "      <th></th>\n",
       "      <th>ID</th>\n",
       "      <th>SMILES</th>\n",
       "      <th>ROMol</th>\n",
       "    </tr>\n",
       "  </thead>\n",
       "  <tbody>\n",
       "    <tr>\n",
       "      <th>0</th>\n",
       "      <td>ZINC50764925</td>\n",
       "      <td>CCCCNC(=O)C1CCCN(C(=O)CCC(C)C)C1</td>\n",
       "      <td><img src=\"data:image/png;base64,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\" alt=\"Mol\"/></td>\n",
       "    </tr>\n",
       "    <tr>\n",
       "      <th>1</th>\n",
       "      <td>ZINC65292537</td>\n",
       "      <td>Cc1ccccc1C(=O)N1CCC(Cc2nc3cccnc3n2C)C1</td>\n",
       "      <td><img src=\"data:image/png;base64,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\" alt=\"Mol\"/></td>\n",
       "    </tr>\n",
       "  </tbody>\n",
       "</table>"
      ],
      "text/plain": [
       "             ID                                  SMILES                                                                                                                                                                                                                                                                                                                                                                                                                                                                                                                                                                                                                                                                                                                                                                                                                                                                                                                                                                                                                                                                                                                                                                                                                                                                                                                                                                                                                                                                                                                                                                                                                                                                                                                                                                                                                                                                                                                                                                                                                                                                                                                                                                                                                                                                                                                                                                                                                                                                                                                                                                                                                                                                                                                                                                                                                                                                                                                                                                                                                                                                                                                                                                                                                                                                                                                                                                                                                                                                                                                                                                                                                                                                                                                                                                                                                                                                                                                                                                                                                                                                                                                                                                                                                                                                                                                                                                                                                                                                                                                                                                                                                                                                                                                                                                                                                                                                                                                                                                                                                                                                                                                                                                                                                                                                                                                                                                                                                                                                                                                                                                                                                                                                                                                                                                                                                                                                                                                                                                                                                                                                                                                                                                                                                                                                                                                                                                                                                                                                                                                                                                                                                                                                                                                                                                                                                                                                                                                                                                                                                                                                                                                                                                                                                                                                                                                                                                                                                                                                                                                                                                                                                                                                                                                                                                                                                                                                                                                                                                                                                                                                                                                                                                                                                                                                                                                                                                                                                                                                                                                                                                                                                                                                                                                                                                                                                                                                                                                                                                                                                                                                                                                                                                          ROMol\n",
       "0  ZINC50764925        CCCCNC(=O)C1CCCN(C(=O)CCC(C)C)C1                                                                                                                                                                                                                                                                                                                                                                                                                                                                                                                                                                                                                                                                                                                                                                                                                                                                                                                                                                                                                                                                                                                                                                                                                                                                                                                                                                                                                                                                                                                                                                                                                                                                                                                                                                                                                                                                                                                                                                                                                                                                                                                                                                                                                                                                                                                                                                                                                                                                                                                                                                                                                                                              <img src=\"data:image/png;base64,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\" alt=\"Mol\"/>\n",
       "1  ZINC65292537  Cc1ccccc1C(=O)N1CCC(Cc2nc3cccnc3n2C)C1  <img src=\"data:image/png;base64,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\" alt=\"Mol\"/>"
      ]
     },
     "execution_count": 4,
     "metadata": {},
     "output_type": "execute_result"
    }
   ],
   "source": [
    "df = dataset.head(2).copy()\n",
    "AddMoleculeColumnToFrame(df, smilesCol='SMILES')\n",
    "df"
   ]
  },
  {
   "cell_type": "code",
   "execution_count": 5,
   "metadata": {
    "scrolled": false
   },
   "outputs": [],
   "source": [
    "pool = Pool(16)\n",
    "dataset['scaffold'] = pool.map(compute_scaffold, dataset['SMILES'].values)\n",
    "pool.close()"
   ]
  },
  {
   "cell_type": "code",
   "execution_count": 6,
   "metadata": {},
   "outputs": [],
   "source": [
    "scaffolds = pd.value_counts(dataset['scaffold'])\n",
    "scaffolds = sorted(scaffolds.items(), key=lambda x: (-x[1], x[0]))"
   ]
  },
  {
   "cell_type": "code",
   "execution_count": 7,
   "metadata": {
    "scrolled": true
   },
   "outputs": [
    {
     "data": {
      "text/html": [
       "<table border=\"1\" class=\"dataframe\">\n",
       "  <thead>\n",
       "    <tr style=\"text-align: right;\">\n",
       "      <th></th>\n",
       "      <th>ID</th>\n",
       "      <th>SMILES</th>\n",
       "      <th>scaffold</th>\n",
       "    </tr>\n",
       "  </thead>\n",
       "  <tbody>\n",
       "    <tr>\n",
       "      <th>0</th>\n",
       "      <td>ZINC50764925</td>\n",
       "      <td>CCCCNC(=O)C1CCCN(C(=O)CCC(C)C)C1</td>\n",
       "      <td>None</td>\n",
       "    </tr>\n",
       "    <tr>\n",
       "      <th>1</th>\n",
       "      <td>ZINC65292537</td>\n",
       "      <td>Cc1ccccc1C(=O)N1CCC(Cc2nc3cccnc3n2C)C1</td>\n",
       "      <td>O=C(c1ccccc1)N1CCC(Cc2nc3cccnc3[nH]2)C1</td>\n",
       "    </tr>\n",
       "    <tr>\n",
       "      <th>2</th>\n",
       "      <td>ZINC31820077</td>\n",
       "      <td>CCc1c(C(=O)N2CCC(C(=O)NC)CC2)cnn1-c1ccccn1</td>\n",
       "      <td>O=C(c1cnn(-c2ccccn2)c1)N1CCCCC1</td>\n",
       "    </tr>\n",
       "    <tr>\n",
       "      <th>3</th>\n",
       "      <td>ZINC65513427</td>\n",
       "      <td>CC(=O)Nc1ccc2nc(NC(=O)C3CC3c3ccco3)sc2c1</td>\n",
       "      <td>O=C(Nc1nc2ccccc2s1)C1CC1c1ccco1</td>\n",
       "    </tr>\n",
       "    <tr>\n",
       "      <th>4</th>\n",
       "      <td>ZINC02782238</td>\n",
       "      <td>CCn1cc(C(=O)Nc2cn(CC)nc2C(N)=O)c(C)n1</td>\n",
       "      <td>O=C(Nc1cn[nH]c1)c1cn[nH]c1</td>\n",
       "    </tr>\n",
       "  </tbody>\n",
       "</table>"
      ],
      "text/plain": [
       "             ID                                      SMILES                                 scaffold\n",
       "0  ZINC50764925            CCCCNC(=O)C1CCCN(C(=O)CCC(C)C)C1                                     None\n",
       "1  ZINC65292537      Cc1ccccc1C(=O)N1CCC(Cc2nc3cccnc3n2C)C1  O=C(c1ccccc1)N1CCC(Cc2nc3cccnc3[nH]2)C1\n",
       "2  ZINC31820077  CCc1c(C(=O)N2CCC(C(=O)NC)CC2)cnn1-c1ccccn1          O=C(c1cnn(-c2ccccn2)c1)N1CCCCC1\n",
       "3  ZINC65513427    CC(=O)Nc1ccc2nc(NC(=O)C3CC3c3ccco3)sc2c1          O=C(Nc1nc2ccccc2s1)C1CC1c1ccco1\n",
       "4  ZINC02782238       CCn1cc(C(=O)Nc2cn(CC)nc2C(N)=O)c(C)n1               O=C(Nc1cn[nH]c1)c1cn[nH]c1"
      ]
     },
     "execution_count": 7,
     "metadata": {},
     "output_type": "execute_result"
    }
   ],
   "source": [
    "dataset.head()"
   ]
  },
  {
   "cell_type": "code",
   "execution_count": 8,
   "metadata": {},
   "outputs": [],
   "source": [
    "test_scaffolds = set([x[0] for x in scaffolds[9::10]])\n",
    "dataset['split'] = 'train'\n",
    "def f(x):\n",
    "    return x in test_scaffolds\n",
    "pool = Pool(16)\n",
    "test_scaf_idx = pool.map(f, dataset['scaffold'])\n",
    "pool.close()\n",
    "dataset.loc[test_scaf_idx, 'split'] = 'test_scaffolds'\n",
    "test_idx = dataset.loc[dataset['split'] == 'train'].sample(frac=0.1, random_state=777).index\n",
    "dataset.loc[test_idx, 'split'] = 'test'"
   ]
  },
  {
   "cell_type": "code",
   "execution_count": 9,
   "metadata": {},
   "outputs": [
    {
     "data": {
      "text/plain": [
       "train             1760707\n",
       "test_scaffolds     197258\n",
       "test               195634\n",
       "Name: split, dtype: int64"
      ]
     },
     "execution_count": 9,
     "metadata": {},
     "output_type": "execute_result"
    }
   ],
   "source": [
    "pd.value_counts(dataset['split'])"
   ]
  },
  {
   "cell_type": "code",
   "execution_count": 10,
   "metadata": {},
   "outputs": [],
   "source": [
    "dataset.drop('scaffold', axis=1, inplace=True)"
   ]
  },
  {
   "cell_type": "markdown",
   "metadata": {},
   "source": [
    "## Saving final dataset"
   ]
  },
  {
   "cell_type": "code",
   "execution_count": 11,
   "metadata": {},
   "outputs": [],
   "source": [
    "dataset.to_csv('mcf_dataset_splitted.csv', index=None)"
   ]
  },
  {
   "cell_type": "code",
   "execution_count": null,
   "metadata": {},
   "outputs": [],
   "source": [
    "# ! rm -r tmp_data/"
   ]
  }
 ],
 "metadata": {
  "kernelspec": {
   "display_name": "Python 3",
   "language": "python",
   "name": "python3"
  },
  "language_info": {
   "codemirror_mode": {
    "name": "ipython",
    "version": 3
   },
   "file_extension": ".py",
   "mimetype": "text/x-python",
   "name": "python",
   "nbconvert_exporter": "python",
   "pygments_lexer": "ipython3",
   "version": "3.6.6"
  }
 },
 "nbformat": 4,
 "nbformat_minor": 2
}
